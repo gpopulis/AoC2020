{
 "cells": [
  {
   "cell_type": "code",
   "execution_count": 2,
   "metadata": {},
   "outputs": [
    {
     "name": "stdout",
     "output_type": "stream",
     "text": [
      "2\n"
     ]
    }
   ],
   "source": [
    "# Helpers\n",
    "\n",
    "import os\n",
    "class Helpers:\n",
    "    def sortData(self, inputData):\n",
    "        sortedData = sorted(inputData,key=lambda x: (len(x), x))\n",
    "        return sortedData\n",
    "    def getTxt(self,name):\n",
    "        root = r'C:\\Users\\GPOPULIS\\Documents\\git\\AoC\\2020'\n",
    "        path = os.path.join(root,name)\n",
    "        data = open(path,'r').read().split('\\n')\n",
    "        return data\n",
    "helpers = Helpers()\n",
    "origData = helpers.getTxt('day'+input()+'.txt')\n",
    "sortedData = helpers.sortData(origData)\n",
    "    "
   ]
  },
  {
   "cell_type": "code",
   "execution_count": 30,
   "metadata": {},
   "outputs": [
    {
     "name": "stdout",
     "output_type": "stream",
     "text": [
      "Part 1:  467\n",
      "Part 2:  441\n"
     ]
    }
   ],
   "source": [
    "#Day 2\n",
    "\n",
    "#print(origData)\n",
    "helpers = Helpers()\n",
    "x = len(origData)\n",
    "c = 0\n",
    "for i in range(x):\n",
    "    temp = origData[i].split(' ')\n",
    "    low = int(temp[0].split('-')[0])\n",
    "    high = int(temp[0].split('-')[1])\n",
    "    letter = temp[1][0]\n",
    "    pw = temp[2]\n",
    "    if pw.count(letter)>=low and pw.count(letter)<=high:\n",
    "        c+=1\n",
    "print('Part 1: ',c)\n",
    "    \n",
    "c = 0\n",
    "for i in range(x):\n",
    "    nums,letter,pw = origData[i].split()\n",
    "    low = int(nums.split('-')[0])\n",
    "    high = int(nums.split('-')[1])\n",
    "    letter = letter.rstrip(':')\n",
    "    if (pw[low-1]==letter) ^ (pw[high-1]==letter):\n",
    "        c+=1\n",
    "print('Part 2: ', c)\n",
    "        \n"
   ]
  },
  {
   "cell_type": "code",
   "execution_count": null,
   "metadata": {},
   "outputs": [],
   "source": [
    "#Day 1\n",
    "\n",
    "data = [int(i) for i in sortedData]\n",
    "\n",
    "x = len(data)\n",
    "for i in range(x):\n",
    "    for j in range(i+1,x):\n",
    "        if data[i] + data[j] == 2020:\n",
    "            print('Task 1: ',data[i], data[j], data[i]*data[j])\n",
    "        for k in range(j+1,x):\n",
    "            if data[i] + data[j] + data[k] == 2020:\n",
    "                print('Task 2: ',data[i], data[j], data[k], data[i]*data[j]*data[k])"
   ]
  },
  {
   "cell_type": "code",
   "execution_count": null,
   "metadata": {},
   "outputs": [],
   "source": []
  },
  {
   "cell_type": "code",
   "execution_count": null,
   "metadata": {},
   "outputs": [],
   "source": []
  }
 ],
 "metadata": {
  "kernelspec": {
   "display_name": "Python 3",
   "language": "python",
   "name": "python3"
  },
  "language_info": {
   "codemirror_mode": {
    "name": "ipython",
    "version": 3
   },
   "file_extension": ".py",
   "mimetype": "text/x-python",
   "name": "python",
   "nbconvert_exporter": "python",
   "pygments_lexer": "ipython3",
   "version": "3.6.9"
  }
 },
 "nbformat": 4,
 "nbformat_minor": 2
}
